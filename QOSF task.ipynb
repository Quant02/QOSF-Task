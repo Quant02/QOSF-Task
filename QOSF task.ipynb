{
 "cells": [
  {
   "cell_type": "code",
   "execution_count": 120,
   "id": "d710f369",
   "metadata": {},
   "outputs": [],
   "source": [
    "import qiskit\n",
    "from qiskit.circuit.library import QFT\n",
    "from qiskit.visualization import plot_histogram\n",
    "from qiskit import *\n",
    "import numpy as np\n",
    "pi = np.pi"
   ]
  },
  {
   "cell_type": "markdown",
   "id": "d458829a",
   "metadata": {},
   "source": [
    "## Custom gate to convert the given integer values to binary"
   ]
  },
  {
   "cell_type": "code",
   "execution_count": 127,
   "id": "25a36a5c",
   "metadata": {},
   "outputs": [],
   "source": [
    "def integer_to_binary_converter(array, name = ' int_to_bin_conv'):\n",
    "    qc = QuantumCircuit(7, name=name)\n",
    "    \n",
    "    # write the value of 1st element of the array at '00' address in fourier basis\n",
    "    \n",
    "    qc.x(range(2))\n",
    "    qc.ccx(0,1,6)\n",
    "    for qubit in range(2,6,1):\n",
    "        qc.crz(array[0]*pi/(2**(5-qubit)), 6, qubit)\n",
    "    qc.ccx(0,1,6)\n",
    "    qc.x(range(2))\n",
    "    qc.barrier()\n",
    "\n",
    "    # write the value of 2nd element of the array at '01' address in fourier basis\n",
    "    \n",
    "    qc.x(1)\n",
    "    qc.ccx(0,1,6)\n",
    "    for qubit in range(2,6,1):\n",
    "        qc.crz(array[1]*pi/(2**(5-qubit)), 6, qubit)\n",
    "    qc.ccx(0,1,6)\n",
    "    qc.x(1)\n",
    "    qc.barrier()\n",
    "\n",
    "    # write the value of 3rd element of the array at '10' address in fourier basis\n",
    "    \n",
    "    qc.x(0)\n",
    "    qc.ccx(0,1,6)\n",
    "    for qubit in range(2,6,1):\n",
    "        qc.crz(array[2]*pi/(2**(5-qubit)), 6, qubit)\n",
    "    qc.ccx(0,1,6)\n",
    "    qc.x(0)\n",
    "    qc.barrier()\n",
    "\n",
    "    # write the value of 4th element of the array at '11' address in fourier basis\n",
    "    \n",
    "    qc.ccx(0,1,6)\n",
    "    for qubit in range(2,6,1):\n",
    "        qc.crz(array[3]*pi/(2**(5-qubit)), 6, qubit)\n",
    "    qc.ccx(0,1,6)\n",
    "    qc.barrier()\n",
    "    \n",
    "    # convert the values from fourier basis to computational basis\n",
    "    \n",
    "    qc.append(QFT(4).inverse(), qc.qubits[2:6])\n",
    "    return qc"
   ]
  },
  {
   "cell_type": "markdown",
   "id": "1b4a6134",
   "metadata": {},
   "source": [
    "## Oracle to obtain the superposition of the indices of the alternating bitstrings"
   ]
  },
  {
   "cell_type": "code",
   "execution_count": 128,
   "id": "e0eb691c",
   "metadata": {},
   "outputs": [],
   "source": [
    "def oracle(name=' oracle'):\n",
    "    qc = QuantumCircuit(7,name=name)\n",
    "    \n",
    "    # mark the data values having alternating bitstrings with '1' on the ancilla qubit\n",
    "    \n",
    "    qc.x(3)\n",
    "    qc.x(5)\n",
    "    qc.mct([2,3,4,5],6)\n",
    "    qc.x(3)\n",
    "    qc.x(5)\n",
    "    qc.barrier()\n",
    "    qc.x(2)\n",
    "    qc.x(4)\n",
    "    qc.mct([2,3,4,5],6)\n",
    "    qc.x(2)\n",
    "    qc.x(4)\n",
    "    \n",
    "    # obtain the superposition of the indices of the marked values\n",
    "    \n",
    "    qc.x(6)\n",
    "    qc.cx(6,0)\n",
    "    \n",
    "    return qc"
   ]
  },
  {
   "cell_type": "markdown",
   "id": "76ec4e18",
   "metadata": {},
   "source": [
    "## Circuit that takes integer array of length 4 and gives the required superosition of the indices as output "
   ]
  },
  {
   "cell_type": "code",
   "execution_count": 123,
   "id": "eb1a6a8b",
   "metadata": {},
   "outputs": [],
   "source": [
    "def desired_circuit():\n",
    "    \n",
    "    # input vector\n",
    "    vector = np.array([1,5,7,10])\n",
    "    \n",
    "    # defining a quantum circuit with 7 qubits; \n",
    "    # qubits:0,1 are address qubits, \n",
    "    # qubits:2,3,4,5 are data qubits, \n",
    "    # qubit:6 is an ancilla qubit.\n",
    "    \n",
    "    qc = QuantumCircuit(7,2)\n",
    "    \n",
    "    # initializing address qubits and data qubits \n",
    "    \n",
    "    qc.h(range(6))\n",
    "    qc.barrier()   \n",
    "    \n",
    "    # append integer_to_binary_converter to convert integer array elements to binary\n",
    "    \n",
    "    qc.append(integer_to_binary_converter(vector), qc.qubits)\n",
    "    qc.barrier()\n",
    "    \n",
    "    # append the oracle to get the output state at the output state written on the address qubits\n",
    "    \n",
    "    qc.append(oracle(), qc.qubits)\n",
    "    qc.barrier()\n",
    "    \n",
    "    # measure the address qubits\n",
    "    \n",
    "    qc.measure([0,1],[0,1])\n",
    "    \n",
    "    return qc"
   ]
  },
  {
   "cell_type": "markdown",
   "id": "3cd22f30",
   "metadata": {},
   "source": [
    "## Histogram of the output state"
   ]
  },
  {
   "cell_type": "code",
   "execution_count": 124,
   "id": "6ba06175",
   "metadata": {},
   "outputs": [
    {
     "data": {
      "image/png": "[encoded data removed]",
      "text/plain": [
       "<Figure size 504x360 with 1 Axes>"
      ]
     },
     "execution_count": 124,
     "metadata": {},
     "output_type": "execute_result"
    }
   ],
   "source": [
    "backend_simulator = Aer.get_backend('qasm_simulator')\n",
    "result = execute(desired_circuit(), backend_simulator).result()\n",
    "counts = result.get_counts()\n",
    "plot_histogram(counts)"
   ]
  },
  {
   "cell_type": "markdown",
   "id": "b8a1c8d7",
   "metadata": {},
   "source": [
    "## Circuit diagram "
   ]
  },
  {
   "cell_type": "code",
   "execution_count": 129,
   "id": "854ff403",
   "metadata": {},
   "outputs": [
    {
     "data": {
      "image/png": "[encoded data removed]",
      "text/plain": [
       "<Figure size 748.797x505.68 with 1 Axes>"
      ]
     },
     "execution_count": 129,
     "metadata": {},
     "output_type": "execute_result"
    }
   ],
   "source": [
    "desired_circuit().draw('mpl')"
   ]
  },
  {
   "cell_type": "code",
   "execution_count": null,
   "id": "d4189294",
   "metadata": {},
   "outputs": [],
   "source": []
  }
 ],
 "metadata": {
  "kernelspec": {
   "display_name": "Quantum_Computing",
   "language": "python",
   "name": "quantum_computing"
  },
  "language_info": {
   "codemirror_mode": {
    "name": "ipython",
    "version": 3
   },
   "file_extension": ".py",
   "mimetype": "text/x-python",
   "name": "python",
   "nbconvert_exporter": "python",
   "pygments_lexer": "ipython3",
   "version": "3.9.5"
  }
 },
 "nbformat": 4,
 "nbformat_minor": 5
}
